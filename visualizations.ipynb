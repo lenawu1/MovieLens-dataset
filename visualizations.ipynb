{
  "cells": [
    {
      "cell_type": "markdown",
      "metadata": {
        "id": "cpAjEmTloSNz"
      },
      "source": [
        "# CS 155 Mini Project 2"
      ]
    },
    {
      "cell_type": "code",
      "execution_count": null,
      "metadata": {
        "id": "WWILadCuoSN1"
      },
      "outputs": [],
      "source": [
        "import numpy as np\n",
        "import csv\n",
        "import pandas as pd\n",
        "import itertools\n",
        "import matplotlib.pyplot as plt\n",
        "# import seaborn as sns\n",
        "# import plotly as plty\n",
        "# import pygal as pyg\n"
      ]
    },
    {
      "cell_type": "markdown",
      "metadata": {
        "id": "RDaDVWyLoSN2"
      },
      "source": [
        "---\n",
        "## Import Data and Preprocessing"
      ]
    },
    {
      "cell_type": "code",
      "execution_count": null,
      "metadata": {
        "colab": {
          "base_uri": "https://localhost:8080/"
        },
        "id": "HdcTM98aoSN2",
        "outputId": "72212f2a-ad86-4733-a2fb-4238d367678d"
      },
      "outputs": [
        {
          "name": "stdout",
          "output_type": "stream",
          "text": [
            "--2023-03-01 17:27:41--  https://raw.githubusercontent.com/emiletimothy/Caltech-CS155-2023/main/miniproject2/data/movies.csv\n",
            "Resolving raw.githubusercontent.com (raw.githubusercontent.com)... 185.199.108.133, 185.199.109.133, 185.199.110.133, ...\n",
            "Connecting to raw.githubusercontent.com (raw.githubusercontent.com)|185.199.108.133|:443... connected.\n",
            "HTTP request sent, awaiting response... 200 OK\n",
            "Length: 104093 (102K) [text/plain]\n",
            "Saving to: ‘movies.csv’\n",
            "\n",
            "movies.csv          100%[===================>] 101.65K  --.-KB/s    in 0.02s   \n",
            "\n",
            "2023-03-01 17:27:41 (4.75 MB/s) - ‘movies.csv’ saved [104093/104093]\n",
            "\n",
            "--2023-03-01 17:27:41--  https://raw.githubusercontent.com/emiletimothy/Caltech-CS155-2023/main/miniproject2/data/data.csv\n",
            "Resolving raw.githubusercontent.com (raw.githubusercontent.com)... 185.199.108.133, 185.199.109.133, 185.199.110.133, ...\n",
            "Connecting to raw.githubusercontent.com (raw.githubusercontent.com)|185.199.108.133|:443... connected.\n",
            "HTTP request sent, awaiting response... 200 OK\n",
            "Length: 1596528 (1.5M) [text/plain]\n",
            "Saving to: ‘data.csv’\n",
            "\n",
            "data.csv            100%[===================>]   1.52M  --.-KB/s    in 0.06s   \n",
            "\n",
            "2023-03-01 17:27:41 (25.0 MB/s) - ‘data.csv’ saved [1596528/1596528]\n",
            "\n"
          ]
        }
      ],
      "source": [
        "# import data from github\n",
        "\n",
        "!wget -O movies.csv https://raw.githubusercontent.com/emiletimothy/Caltech-CS155-2023/main/miniproject2/data/movies.csv\n",
        "!wget -O data.csv https://raw.githubusercontent.com/emiletimothy/Caltech-CS155-2023/main/miniproject2/data/data.csv"
      ]
    },
    {
      "cell_type": "code",
      "execution_count": null,
      "metadata": {
        "id": "jvMzofNnoSN2"
      },
      "outputs": [],
      "source": [
        "# open CSV with pandas\n",
        "movies_raw = pd.read_csv(\"movies.csv\")\n",
        "data_raw = pd.read_csv(\"data.csv\")\n"
      ]
    },
    {
      "cell_type": "code",
      "execution_count": null,
      "metadata": {
        "id": "USE6N-a4oSN3"
      },
      "outputs": [],
      "source": [
        "# Process CSV files into usable data\n",
        "\n",
        "movie_data = movies_raw.drop([\"Movie Title\"], axis =1 )\n",
        "# movie_data = movies_raw.drop([\"Unknown\"], axis =1 )    # drop the Unknown column, seems useless?"
      ]
    },
    {
      "cell_type": "code",
      "execution_count": null,
      "metadata": {
        "colab": {
          "base_uri": "https://localhost:8080/"
        },
        "id": "sImnBFdQoSN3",
        "outputId": "63afd4c3-acb5-4e94-91a4-66a57a0d71cd"
      },
      "outputs": [
        {
          "name": "stdout",
          "output_type": "stream",
          "text": [
            "Movie data set: \n",
            "(1500, 20)\n",
            "Users data set: \n",
            "(121501, 3)\n"
          ]
        }
      ],
      "source": [
        "# convert to numpy arrays\n",
        "movie_data = movie_data.to_numpy()\n",
        "users_data = data_raw.to_numpy()\n",
        "\n",
        "print(\"Movie data set: \")\n",
        "print(movie_data.shape)\n",
        "\n",
        "print(\"Users data set: \")\n",
        "print(users_data.shape)\n"
      ]
    },
    {
      "cell_type": "markdown",
      "metadata": {
        "id": "U6nn2AE8oSN3"
      },
      "source": [
        "---\n",
        "## Basic Visualization"
      ]
    },
    {
      "cell_type": "markdown",
      "metadata": {
        "id": "eg_7LSBBoSN4"
      },
      "source": [
        "### ~~~~~~~~~~~~~~~~~~~~~~~~~~~~~~~~~~~~~~~~~~~~~~~~~~~~~~~~~~~~~~~~\n",
        "### 1. All ratings in the MovieLens Dataset"
      ]
    },
    {
      "cell_type": "code",
      "execution_count": null,
      "metadata": {
        "colab": {
          "base_uri": "https://localhost:8080/",
          "height": 310
        },
        "id": "IsBs9SsGoSN4",
        "outputId": "9a705e9c-7d07-47e5-aded-8745e805d1d0"
      },
      "outputs": [
        {
          "data": {
            "image/png": "[encoded data removed]",
            "text/plain": [
              "<Figure size 432x288 with 1 Axes>"
            ]
          },
          "metadata": {
            "needs_background": "light"
          },
          "output_type": "display_data"
        }
      ],
      "source": [
        "# list of possible ratings\n",
        "rating_vals = [0.5, 1.0, 1.5, 2.0, 2.5, 3.0, 3.5, 4.0, 4.5, 5.0]\n",
        "\n",
        "# number of movies in data set\n",
        "num_movies = movie_data.shape[0]\n",
        "\n",
        "# just need the movie IDs and ratings\n",
        "all_ratings = users_data[:,2]\n",
        "\n",
        "# TODO: combine all ratings into a histogram\n",
        "hist_data = all_ratings\n",
        "avg_rating = np.average(hist_data)\n",
        "title_string = \"Rating Distribution of All Movies\\nAvg. Rating: {:.2f}\".format(avg_rating)\n",
        "plt.grid()\n",
        "plt.xlim(xmin = 0, xmax=5.5)\n",
        "plt.hist(hist_data, edgecolor='k', align='mid')\n",
        "plt.xticks(rating_vals)\n",
        "plt.title(title_string)\n",
        "plt.xlabel(\"Rating\")\n",
        "plt.ylabel(\"Frequency\")\n",
        "plt.show()\n"
      ]
    },
    {
      "cell_type": "code",
      "execution_count": null,
      "metadata": {
        "colab": {
          "base_uri": "https://localhost:8080/"
        },
        "id": "un28WCGo9InE",
        "outputId": "0f50f000-1320-4e63-c7a3-a002efb0ee97"
      },
      "outputs": [
        {
          "name": "stdout",
          "output_type": "stream",
          "text": [
            "Std. Dev: 1.0315848808878352\n"
          ]
        }
      ],
      "source": [
        "print(\"Std. Dev: {}\".format(np.std(hist_data)))"
      ]
    },
    {
      "cell_type": "markdown",
      "metadata": {
        "id": "BZOTrDCUoSN4"
      },
      "source": [
        "### ~~~~~~~~~~~~~~~~~~~~~~~~~~~~~~~~~~~~~~~~~~~~~~~~~~~~~~~~~~~~~~~~\n",
        "### 2. All ratings in top 10 popular movies"
      ]
    },
    {
      "cell_type": "code",
      "execution_count": null,
      "metadata": {
        "colab": {
          "base_uri": "https://localhost:8080/"
        },
        "id": "7Pio0yweoSN4",
        "outputId": "8e05af74-0001-417c-8a54-6413cae411fd"
      },
      "outputs": [
        {
          "name": "stdout",
          "output_type": "stream",
          "text": [
            "Top 10 Popular Movies:\n",
            "1) Lord of the Rings: The Fellowship of the Ring, The (2001) , No. Ratings: 747\n",
            "2) Lord of the Rings: The Two Towers, The (2002) , No. Ratings: 713\n",
            "3) Lord of the Rings: The Return of the King, The (2003) , No. Ratings: 698\n",
            "4) Shrek (2001) , No. Ratings: 610\n",
            "5) Pirates of the Caribbean: The Curse of the Black Pearl (2003) , No. Ratings: 585\n",
            "6) Dark Knight, The (2008) , No. Ratings: 561\n",
            "7) Finding Nemo (2003) , No. Ratings: 528\n",
            "8) Kill Bill: Vol. 1 (2003) , No. Ratings: 520\n",
            "9) Monsters, Inc. (2001) , No. Ratings: 519\n",
            "10) Ocean's Eleven (2001) , No. Ratings: 517\n"
          ]
        }
      ],
      "source": [
        "# init list of movies and average ratings\n",
        "ratings_list = []\n",
        "\n",
        "# number of movies in data set\n",
        "num_movies = movie_data.shape[0]\n",
        "\n",
        "# just need the movie IDs and ratings\n",
        "movie_ratings = users_data[:,1:]\n",
        "\n",
        "# compute average rating of all movies\n",
        "for ID in range(num_movies):\n",
        "\n",
        "    # index where movie_ID shows up\n",
        "    idx = np.where(movie_ratings[:,0] == ID)\n",
        "\n",
        "    # get list of ratings for this movie\n",
        "    movie_ID_ratings = movie_ratings[idx,1]\n",
        "\n",
        "    # get number of ratings\n",
        "    num_ratings = len(movie_ID_ratings[0])\n",
        "\n",
        "    # store rating\n",
        "    ratings_list.append([ID,num_ratings])\n",
        "\n",
        "# determine top ten movies\n",
        "ratings_list = np.array(ratings_list)\n",
        "sorted_idx = np.argsort(ratings_list[:,1])\n",
        "ratings_list = ratings_list[sorted_idx]\n",
        "ratings_list = np.flipud(ratings_list)       # if you comment this out, returns least popular\n",
        "\n",
        "# print the Top N movies and the ratings and save\n",
        "top_n = 10\n",
        "mov_info_list = []\n",
        "print(\"Top {} Popular Movies:\".format(top_n))\n",
        "for j in range(top_n):\n",
        "\n",
        "    # get movie title and rating\n",
        "    mov_ID, num_ratings = ratings_list[j]\n",
        "    mov = movies_raw.loc[movies_raw[\"Movie ID\"] == mov_ID]\n",
        "    mov_title = mov.iloc[0][\"Movie Title\"]\n",
        "\n",
        "    # store movie info\n",
        "    mov_info = [int(mov_ID), mov_title, num_ratings]\n",
        "    mov_info_list.append(mov_info)\n",
        "\n",
        "    print(\"{}) {} , No. Ratings: {}\".format(j+1,mov_title, num_ratings))\n"
      ]
    },
    {
      "cell_type": "markdown",
      "metadata": {
        "id": "I8mdLUN4oSN5"
      },
      "source": [
        "Generate Bar Grpahs"
      ]
    },
    {
      "cell_type": "code",
      "execution_count": null,
      "metadata": {
        "colab": {
          "base_uri": "https://localhost:8080/",
          "height": 310
        },
        "id": "rr9PxVhUoSN5",
        "outputId": "1bb0a9f2-4467-4bee-c2f2-94625300cd11"
      },
      "outputs": [
        {
          "data": {
            "image/png": "[encoded data removed]",
            "text/plain": [
              "<Figure size 432x288 with 1 Axes>"
            ]
          },
          "metadata": {
            "needs_background": "light"
          },
          "output_type": "display_data"
        }
      ],
      "source": [
        "# list of possible ratings\n",
        "rating_vals = [0.5, 1.0, 1.5, 2.0, 2.5, 3.0, 3.5, 4.0, 4.5, 5.0]\n",
        "\n",
        "# get list or ratings for our top ten\n",
        "mov_info_list_= []\n",
        "for mov_info in mov_info_list:\n",
        "\n",
        "    # extract info\n",
        "    mov_ID, mov_title, rating = mov_info\n",
        "\n",
        "    # get all movie ratings\n",
        "    idx = np.where(movie_ratings[:,0] == mov_ID)\n",
        "    movie_ID_ratings = movie_ratings[idx,1]\n",
        "\n",
        "    # store movie info into list\n",
        "    mov_info = [mov_ID, mov_title, rating, movie_ID_ratings[0]]\n",
        "    mov_info_list_.append(mov_info)\n",
        "\n",
        "# # plot INDIVIDUAL HISTOGRAMS\n",
        "# for i in range(top_n):\n",
        "\n",
        "#     mov_info = mov_info_list_[i]\n",
        "#     hist_data = mov_info[3]\n",
        "#     title_string = \"{} \\n ID: {}, No. Ratings: {:.0f}\".format(mov_info[1], mov_info[0], mov_info[2])\n",
        "#     plt.grid()\n",
        "#     plt.xlim(xmin = 0, xmax=5.5)\n",
        "#     plt.hist(hist_data, edgecolor='k', align='mid')\n",
        "#     plt.xticks(rating_vals)\n",
        "#     plt.title(title_string)\n",
        "#     plt.xlabel(\"Rating\")\n",
        "#     plt.ylabel(\"Frequency\")\n",
        "#     plt.show()\n",
        "\n",
        "# TODO: can combine all ratings into one big histogram\n",
        "hist_data = []\n",
        "for i in range(top_n):\n",
        "      mov_info = mov_info_list_[i]\n",
        "      hist_data.append(mov_info[3])\n",
        "\n",
        "hist_data = list(itertools.chain.from_iterable(hist_data))\n",
        "avg_rating = np.average(np.array(hist_data))\n",
        "title_string = \"Rating Distribution of Top 10 Most Popular Movies\\nAvg. Rating: {:.2f}\".format(avg_rating)\n",
        "plt.grid()\n",
        "plt.xlim(xmin = 0, xmax=5.5)\n",
        "plt.hist(hist_data, edgecolor='k', align='mid')\n",
        "plt.xticks(rating_vals)\n",
        "plt.title(title_string)\n",
        "plt.xlabel(\"Rating\")\n",
        "plt.ylabel(\"Frequency\")\n",
        "plt.show()\n"
      ]
    },
    {
      "cell_type": "code",
      "execution_count": null,
      "metadata": {
        "colab": {
          "base_uri": "https://localhost:8080/"
        },
        "id": "SdV5JTWY9Xeb",
        "outputId": "90d3fa8d-aeaf-4ef9-e3a8-ea2891540901"
      },
      "outputs": [
        {
          "name": "stdout",
          "output_type": "stream",
          "text": [
            "Std. Dev: 0.9634611141119822\n"
          ]
        }
      ],
      "source": [
        "print(\"Std. Dev: {}\".format(np.std(hist_data)))"
      ]
    },
    {
      "cell_type": "markdown",
      "metadata": {
        "id": "lc_STfmKoSN5"
      },
      "source": [
        "### ~~~~~~~~~~~~~~~~~~~~~~~~~~~~~~~~~~~~~~~~~~~~~~~~~~~~~~~~~~~~~~~~\n",
        "### 3. All ratings in top 10 best movies"
      ]
    },
    {
      "cell_type": "markdown",
      "metadata": {
        "id": "fWCxy7RcoSN5"
      },
      "source": [
        "Determine Top 10 Movies"
      ]
    },
    {
      "cell_type": "code",
      "execution_count": null,
      "metadata": {
        "colab": {
          "base_uri": "https://localhost:8080/"
        },
        "id": "tWVA_Y0JoSN5",
        "outputId": "00fc1dbd-c65d-4870-a67c-42fdf384874d"
      },
      "outputs": [
        {
          "name": "stdout",
          "output_type": "stream",
          "text": [
            "Top 10 Best Movies:\n",
            "1) Planet Earth (2006) , Rating: 4.47\n",
            "2) Black Mirror: White Christmas (2014) , Rating: 4.45\n",
            "3) Akeelah and the Bee (2006) , Rating: 4.30\n",
            "4) Barbarian Invasions, The (Les invasions barbares) (2003) , Rating: 4.28\n",
            "5) Louis C.K.: Live at The Comedy Store (2015) , Rating: 4.26\n",
            "6) Blue Is the Warmest Color (La vie d'Adèle) (2013) , Rating: 4.26\n",
            "7) Elite Squad: The Enemy Within (Tropa de Elite 2 - O Inimigo Agora É Outro) (2010) , Rating: 4.24\n",
            "8) City of God (Cidade de Deus) (2002) , Rating: 4.20\n",
            "9) Incendies (2010) , Rating: 4.19\n",
            "10) Piper (2016) , Rating: 4.18\n"
          ]
        }
      ],
      "source": [
        "# init list of movies and average ratings\n",
        "ratings_list = []\n",
        "\n",
        "# number of movies in data set\n",
        "num_movies = movie_data.shape[0]\n",
        "\n",
        "# just need the movie IDs and ratings\n",
        "movie_ratings = users_data[:,1:]\n",
        "\n",
        "# compute average rating of all movies\n",
        "for ID in range(num_movies):\n",
        "\n",
        "    # index where movie_ID shows up\n",
        "    idx = np.where(movie_ratings[:,0] == ID)\n",
        "\n",
        "    # get list of ratings for this movie\n",
        "    movie_ID_ratings = movie_ratings[idx,1]\n",
        "\n",
        "    # get average rating\n",
        "    avg_rating = np.average(movie_ID_ratings)\n",
        "\n",
        "    # store rating\n",
        "    ratings_list.append([ID,avg_rating])\n",
        "\n",
        "# determine top ten movies\n",
        "ratings_list = np.array(ratings_list)\n",
        "sorted_idx = np.argsort(ratings_list[:,1])\n",
        "ratings_list = ratings_list[sorted_idx]\n",
        "ratings_list = np.flipud(ratings_list)       # if you comment this out, returns worst movies\n",
        "\n",
        "# print the Top N movies and the ratings and save\n",
        "top_n = 10\n",
        "mov_info_list = []\n",
        "print(\"Top {} Best Movies:\".format(top_n))\n",
        "for j in range(top_n):\n",
        "\n",
        "    # get movie title and rating\n",
        "    mov_ID, rating = ratings_list[j]\n",
        "    mov = movies_raw.loc[movies_raw[\"Movie ID\"] == mov_ID]\n",
        "    mov_title = mov.iloc[0][\"Movie Title\"]\n",
        "\n",
        "    # store movie info\n",
        "    mov_info = [int(mov_ID), mov_title, rating]\n",
        "    mov_info_list.append(mov_info)\n",
        "\n",
        "    print(\"{}) {} , Rating: {:.2f}\".format(j+1,mov_title, rating))\n"
      ]
    },
    {
      "cell_type": "markdown",
      "metadata": {
        "id": "E5IljAOPoSN6"
      },
      "source": [
        "Generate bar graphs"
      ]
    },
    {
      "cell_type": "code",
      "execution_count": null,
      "metadata": {
        "colab": {
          "base_uri": "https://localhost:8080/",
          "height": 310
        },
        "id": "Ob43gvKeoSN6",
        "outputId": "8244b60a-1743-406e-8391-d2327f10b270"
      },
      "outputs": [
        {
          "data": {
            "image/png": "[encoded data removed]",
            "text/plain": [
              "<Figure size 432x288 with 1 Axes>"
            ]
          },
          "metadata": {
            "needs_background": "light"
          },
          "output_type": "display_data"
        }
      ],
      "source": [
        "# list of possible ratings\n",
        "rating_vals = [0.5, 1.0, 1.5, 2.0, 2.5, 3.0, 3.5, 4.0, 4.5, 5.0]\n",
        "\n",
        "# get list or ratings for our top ten\n",
        "mov_info_list_= []\n",
        "for mov_info in mov_info_list:\n",
        "\n",
        "    # extract info\n",
        "    mov_ID, mov_title, rating = mov_info\n",
        "\n",
        "    # get all movie ratings\n",
        "    idx = np.where(movie_ratings[:,0] == mov_ID)\n",
        "    movie_ID_ratings = movie_ratings[idx,1]\n",
        "\n",
        "    # # build frequency of ratings for each movie\n",
        "    # freq_list = []\n",
        "    # for rating_val in rating_vals:\n",
        "    #     movie_ID_ratings_list = movie_ID_ratings.tolist()\n",
        "    #     movie_ID_ratings_list = movie_ID_ratings_list[0]\n",
        "    #     freq = movie_ID_ratings_list.count(rating_val)\n",
        "    #     freq_list.append(freq)\n",
        "\n",
        "    # create a new object for our list\n",
        "    # mov_info = [mov_ID, mov_title, rating, freq_list, movie_ID_ratings[0]]\n",
        "\n",
        "    # store movie info into list\n",
        "    mov_info = [mov_ID, mov_title, rating, movie_ID_ratings[0]]\n",
        "    mov_info_list_.append(mov_info)\n",
        "\n",
        "# # plot histograms\n",
        "# for i in range(top_n):\n",
        "\n",
        "#     mov_info = mov_info_list_[i]\n",
        "#     hist_data = mov_info[3]\n",
        "#     title_string = \"{} \\n ID: {}, Avg. Rating: {:.2f}\".format(mov_info[1], mov_info[0], mov_info[2])\n",
        "#     plt.grid()\n",
        "#     plt.xlim(xmin = 0, xmax=5.5)\n",
        "#     plt.hist(hist_data, edgecolor='k')\n",
        "#     plt.title(title_string)\n",
        "#     plt.xticks(rating_vals)\n",
        "#     plt.xlabel(\"Rating\")\n",
        "#     plt.ylabel(\"Frequency\")\n",
        "#     plt.show()\n",
        "\n",
        "# TODO: can combine all ratings into one big histogram\n",
        "hist_data = []\n",
        "for i in range(top_n):\n",
        "      mov_info = mov_info_list_[i]\n",
        "      hist_data.append(mov_info[3])\n",
        "\n",
        "hist_data = list(itertools.chain.from_iterable(hist_data))\n",
        "avg_rating = np.average(np.array(hist_data))\n",
        "title_string = \"Rating Distribution of Top 10 Best Movies\\nAvg. Rating: {:.2f}\".format(avg_rating)\n",
        "plt.grid()\n",
        "plt.xlim(xmin = 0, xmax=5.5)\n",
        "plt.hist(hist_data, edgecolor='k', align='mid')\n",
        "plt.xticks(rating_vals)\n",
        "plt.title(title_string)\n",
        "plt.xlabel(\"Rating\")\n",
        "plt.ylabel(\"Frequency\")\n",
        "plt.show()\n"
      ]
    },
    {
      "cell_type": "code",
      "execution_count": null,
      "metadata": {
        "colab": {
          "base_uri": "https://localhost:8080/"
        },
        "id": "mPagBdda9Y8Q",
        "outputId": "92e8aec7-14a4-4d6f-dc63-9a9546d59b2f"
      },
      "outputs": [
        {
          "name": "stdout",
          "output_type": "stream",
          "text": [
            "Std. Dev: 0.761022618308955\n"
          ]
        }
      ],
      "source": [
        "print(\"Std. Dev: {}\".format(np.std(hist_data)))"
      ]
    },
    {
      "cell_type": "markdown",
      "metadata": {
        "id": "NR_dnZgzoSN6"
      },
      "source": [
        "### ~~~~~~~~~~~~~~~~~~~~~~~~~~~~~~~~~~~~~~~~~~~~~~~~~~~~~~~~~~~~~~~~\n",
        "### 4. All ratings of movies from 3 genres"
      ]
    },
    {
      "cell_type": "code",
      "execution_count": null,
      "metadata": {
        "colab": {
          "base_uri": "https://localhost:8080/"
        },
        "id": "gI8JM30loSN6",
        "outputId": "cfeb3b07-a7c7-43fb-be7e-6c825bd608be"
      },
      "outputs": [
        {
          "name": "stdout",
          "output_type": "stream",
          "text": [
            "0: Movie ID\n",
            "1: Movie Title\n",
            "2: Unknown\n",
            "3: Action\n",
            "4: Adventure\n",
            "5: Animation\n",
            "6: Children\n",
            "7: Comedy\n",
            "8: Crime\n",
            "9: Documentary\n",
            "10: Drama\n",
            "11: Fantasy\n",
            "12: Film-Noir\n",
            "13: Horror\n",
            "14: Musical\n",
            "15: Mystery\n",
            "16: Romance\n",
            "17: Sci-Fi\n",
            "18: Thriller\n",
            "19: War\n",
            "20: Western\n"
          ]
        }
      ],
      "source": [
        "# print all movie genres\n",
        "col_labels = movies_raw.columns\n",
        "for i in range(len(col_labels)):\n",
        "    print(\"{}: {}\".format(i, col_labels[i]))"
      ]
    },
    {
      "cell_type": "code",
      "execution_count": null,
      "metadata": {
        "colab": {
          "base_uri": "https://localhost:8080/"
        },
        "id": "LR6xSbIioSN6",
        "outputId": "eb93b3c2-f8a5-402a-fe7f-af23ffd2418e"
      },
      "outputs": [
        {
          "name": "stdout",
          "output_type": "stream",
          "text": [
            "Our favorite 3 genres:\n",
            "1) Comedy\n",
            "2) Documentary\n",
            "3) Horror\n"
          ]
        }
      ],
      "source": [
        "# pick favorite genres\n",
        "fav_idx = [7,9,13]\n",
        "genres_fav = list(col_labels[fav_idx])\n",
        "\n",
        "print(\"Our favorite 3 genres:\")\n",
        "for j in range(len(genres_fav)):\n",
        "    print(\"{}) {}\".format(j+1, genres_fav[j]))\n"
      ]
    },
    {
      "cell_type": "code",
      "execution_count": null,
      "metadata": {
        "colab": {
          "base_uri": "https://localhost:8080/",
          "height": 1000
        },
        "id": "GxzvQHcToSN6",
        "outputId": "c2ef6d2a-0b42-49a6-f225-21ee4c828b93"
      },
      "outputs": [
        {
          "name": "stdout",
          "output_type": "stream",
          "text": [
            "Genre: Comedy\n",
            "Avg. Rating: 3.4328329777506856\n",
            "Std. Dev: 1.0716617825449266\n",
            "No. Ratings: 39372\n",
            "Genre: Documentary\n",
            "Avg. Rating: 3.672189349112426\n",
            "Std. Dev: 0.9862645141936135\n",
            "No. Ratings: 1690\n",
            "Genre: Horror\n",
            "Avg. Rating: 3.3187658947932004\n",
            "Std. Dev: 1.0582112923601519\n",
            "No. Ratings: 7471\n"
          ]
        },
        {
          "data": {
            "image/png": "[encoded data removed]",
            "text/plain": [
              "<Figure size 432x288 with 1 Axes>"
            ]
          },
          "metadata": {
            "needs_background": "light"
          },
          "output_type": "display_data"
        },
        {
          "data": {
            "image/png": "[encoded data removed]",
            "text/plain": [
              "<Figure size 432x288 with 1 Axes>"
            ]
          },
          "metadata": {
            "needs_background": "light"
          },
          "output_type": "display_data"
        },
        {
          "data": {
            "image/png": "[encoded data removed]",
            "text/plain": [
              "<Figure size 432x288 with 1 Axes>"
            ]
          },
          "metadata": {
            "needs_background": "light"
          },
          "output_type": "display_data"
        }
      ],
      "source": [
        "# extract columns with relevant info\n",
        "col_extract = list.copy(genres_fav)\n",
        "col_extract.insert(0,'Movie ID')\n",
        "\n",
        "# convert to numpy array\n",
        "movie_data_fav = movies_raw[col_extract]\n",
        "movie_data_fav = movie_data_fav.to_numpy()\n",
        "\n",
        "# just need the movie IDs and ratings\n",
        "movie_ratings = users_data[:,1:]\n",
        "\n",
        "\n",
        "# number of movies in data set\n",
        "num_movies = movie_data.shape[0]\n",
        "\n",
        "# just need the movie IDs and ratings\n",
        "movie_ratings = users_data[:,1:]\n",
        "\n",
        "# determine which movies belong to what genre\n",
        "movies_genre_list = []   # note that a movie can be in multiple categories\n",
        "\n",
        "for k in range(len(genres_fav)):\n",
        "\n",
        "    # loop through all movies to see if in a genre\n",
        "    genre_list = []\n",
        "    for ID in range(num_movies):\n",
        "\n",
        "        mov_info = movie_data_fav[ID]\n",
        "\n",
        "        # check if movie is in genre\n",
        "        if mov_info[k+1] == 1:\n",
        "            genre_list.append(ID)\n",
        "\n",
        "    movies_genre_list.append(genre_list)\n",
        "\n",
        "# TODO: produce 3 plots for you favorite genres\n",
        "# get ratings for each category and plot\n",
        "for m in range(len(movies_genre_list)):\n",
        "\n",
        "    mov_list_ = movies_genre_list[m]\n",
        "\n",
        "    # pull ratings for each movie\n",
        "    genre_ratings = []\n",
        "    for ID in mov_list_:\n",
        "\n",
        "        # index where movie_ID shows up\n",
        "        idx = np.where(movie_ratings[:,0] == ID)\n",
        "\n",
        "        # get list of ratings for this movie\n",
        "        movie_ID_ratings = movie_ratings[idx,1]\n",
        "        movie_ID_ratings = movie_ID_ratings[0]\n",
        "\n",
        "        # append vector of ratings for movie ID\n",
        "        genre_ratings.append(movie_ID_ratings)\n",
        "\n",
        "    # plot histogram\n",
        "    hist_data = list(itertools.chain.from_iterable(genre_ratings))\n",
        "    avg_rating = np.average(np.array(hist_data))\n",
        "    title_string = \"Genre: {} \\n Avg. Rating: {:.2f}\".format(genres_fav[m], avg_rating)\n",
        "    # plt.subplot(3,1,m+1)\n",
        "    # plt.subplots_adjust(hspace=1.5)\n",
        "    plt.figure()\n",
        "    plt.grid()\n",
        "    plt.xlim(xmin = 0, xmax=5.5)\n",
        "    plt.hist(hist_data, edgecolor='k')\n",
        "    plt.title(title_string)\n",
        "    plt.xticks(rating_vals)\n",
        "    plt.xlabel(\"Rating\")\n",
        "    plt.ylabel(\"Frequency\")\n",
        "\n",
        "    print(\"Genre: {}\".format(genres_fav[m]))\n",
        "    print(\"Avg. Rating: {}\".format(avg_rating))\n",
        "    print(\"Std. Dev: {}\".format(np.std(hist_data)))\n",
        "    print(\"No. Ratings: {}\".format(len(hist_data)))\n",
        "\n"
      ]
    },
    {
      "cell_type": "code",
      "execution_count": null,
      "metadata": {
        "id": "GWMOgCevoSN7"
      },
      "outputs": [],
      "source": []
    }
  ],
  "metadata": {
    "colab": {
      "provenance": []
    },
    "kernelspec": {
      "display_name": "CS155",
      "language": "python",
      "name": "python3"
    },
    "language_info": {
      "codemirror_mode": {
        "name": "ipython",
        "version": 3
      },
      "file_extension": ".py",
      "mimetype": "text/x-python",
      "name": "python",
      "nbconvert_exporter": "python",
      "pygments_lexer": "ipython3",
      "version": "3.10.8"
    },
    "orig_nbformat": 4,
    "vscode": {
      "interpreter": {
        "hash": "e2d895fc712eb08267793e955f953cc2fbe3ae10163eba04438bdcec01a0b758"
      }
    }
  },
  "nbformat": 4,
  "nbformat_minor": 0
}
